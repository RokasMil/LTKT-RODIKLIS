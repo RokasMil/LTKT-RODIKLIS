{
 "cells": [
  {
   "cell_type": "code",
   "execution_count": null,
   "metadata": {},
   "outputs": [],
   "source": [
    "import pandas as pd\n",
    "import numpy as np\n",
    "duomenys = pd.read_excel('C:/Users/miliu/Desktop/LKT_Kultura_w_datamap_Analitiko atranka.xlsx')\n",
    "duomenys = duomenys[['A1_1', 'W', 'D4R']]\n",
    "duomenys = duomenys.rename(columns={'A1_1': 'atsakymai', 'W': 'svoris', 'D4R': 'amziausgr'})\n",
    "amziaus_mapping = {1: '15–19 metų', 2: '20–29 metų', 3: '30–39 metų', 4: '40–49 metų', 5: '50–59 metų', 6: '60–69 metų', 7: '70 metų ir vyresni'}\n",
    "atsakymo_mapping = {1: 'Taip', 2: 'Ne'}\n",
    "duomenys['amziausgr'] = duomenys['amziausgr'].map(amziaus_mapping)\n",
    "duomenys['atsakymai'] = duomenys['atsakymai'].map(atsakymo_mapping)\n",
    "\n",
    "\n"
   ]
  },
  {
   "cell_type": "code",
   "execution_count": 28,
   "metadata": {},
   "outputs": [
    {
     "name": "stdout",
     "output_type": "stream",
     "text": [
      "| Amžiaus grupė      |   Rodiklis |\n",
      "|:-------------------|-----------:|\n",
      "| 15–19 metų         |     0.3493 |\n",
      "| 20–29 metų         |     0.2224 |\n",
      "| 30–39 metų         |     0.1403 |\n",
      "| 40–49 metų         |     0.1    |\n",
      "| 50–59 metų         |     0.0755 |\n",
      "| 60–69 metų         |     0.0605 |\n",
      "| 70 metų ir vyresni |     0.0543 |\n"
     ]
    }
   ],
   "source": [
    "rodiklis = duomenys[duomenys['atsakymai'] == 'Taip'].groupby('amziausgr')['svoris'].sum() / duomenys.groupby('amziausgr')['svoris'].sum()\n",
    "\n",
    "table = rodiklis.reset_index()  \n",
    "table.columns = ['Amžiaus grupė', 'Rodiklis']\n",
    "\n",
    "\n",
    "table['Rodiklis'] = table['Rodiklis'].round(4)\n",
    "\n",
    "print(table.to_markdown(index=False))"
   ]
  }
 ],
 "metadata": {
  "kernelspec": {
   "display_name": "base",
   "language": "python",
   "name": "python3"
  },
  "language_info": {
   "codemirror_mode": {
    "name": "ipython",
    "version": 3
   },
   "file_extension": ".py",
   "mimetype": "text/x-python",
   "name": "python",
   "nbconvert_exporter": "python",
   "pygments_lexer": "ipython3",
   "version": "3.10.9"
  }
 },
 "nbformat": 4,
 "nbformat_minor": 2
}
